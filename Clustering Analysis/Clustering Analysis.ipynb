{
 "cells": [
  {
   "cell_type": "code",
   "execution_count": 21,
   "metadata": {},
   "outputs": [],
   "source": [
    "# import the library# impor \n",
    "%matplotlib inline\n",
    "\n",
    "import pandas as pd\n",
    "import numpy as np\n",
    "import collections\n",
    "import matplotlib.pyplot as plt\n",
    "import seaborn as sns\n",
    "\n",
    "from sklearn.cluster import KMeans\n",
    "from sklearn.preprocessing import StandardScaler\n",
    "from sklearn.metrics.pairwise import euclidean_distances\n",
    "\n",
    "sns.set_style('whitegrid')"
   ]
  },
  {
   "cell_type": "markdown",
   "metadata": {},
   "source": [
    "### Loading the data "
   ]
  },
  {
   "cell_type": "code",
   "execution_count": 44,
   "metadata": {},
   "outputs": [
    {
     "data": {
      "text/html": [
       "<div>\n",
       "<style scoped>\n",
       "    .dataframe tbody tr th:only-of-type {\n",
       "        vertical-align: middle;\n",
       "    }\n",
       "\n",
       "    .dataframe tbody tr th {\n",
       "        vertical-align: top;\n",
       "    }\n",
       "\n",
       "    .dataframe thead th {\n",
       "        text-align: right;\n",
       "    }\n",
       "</style>\n",
       "<table border=\"1\" class=\"dataframe\">\n",
       "  <thead>\n",
       "    <tr style=\"text-align: right;\">\n",
       "      <th></th>\n",
       "      <th>original_title</th>\n",
       "      <th>user_id</th>\n",
       "      <th>rating</th>\n",
       "    </tr>\n",
       "  </thead>\n",
       "  <tbody>\n",
       "    <tr>\n",
       "      <th>0</th>\n",
       "      <td>The Hunger Games</td>\n",
       "      <td>2886</td>\n",
       "      <td>5</td>\n",
       "    </tr>\n",
       "    <tr>\n",
       "      <th>1</th>\n",
       "      <td>The Hunger Games</td>\n",
       "      <td>6158</td>\n",
       "      <td>5</td>\n",
       "    </tr>\n",
       "    <tr>\n",
       "      <th>2</th>\n",
       "      <td>The Hunger Games</td>\n",
       "      <td>3991</td>\n",
       "      <td>4</td>\n",
       "    </tr>\n",
       "    <tr>\n",
       "      <th>3</th>\n",
       "      <td>The Hunger Games</td>\n",
       "      <td>5281</td>\n",
       "      <td>5</td>\n",
       "    </tr>\n",
       "    <tr>\n",
       "      <th>4</th>\n",
       "      <td>The Hunger Games</td>\n",
       "      <td>5721</td>\n",
       "      <td>5</td>\n",
       "    </tr>\n",
       "  </tbody>\n",
       "</table>\n",
       "</div>"
      ],
      "text/plain": [
       "     original_title  user_id  rating\n",
       "0  The Hunger Games     2886       5\n",
       "1  The Hunger Games     6158       5\n",
       "2  The Hunger Games     3991       4\n",
       "3  The Hunger Games     5281       5\n",
       "4  The Hunger Games     5721       5"
      ]
     },
     "execution_count": 44,
     "metadata": {},
     "output_type": "execute_result"
    }
   ],
   "source": [
    "df_books = pd.read_csv('books.csv')[['book_id', 'original_title']]\n",
    "df_rat = pd.read_csv('ratings.csv')\n",
    "df = pd.merge(df_books, df_rat)[['original_title', 'user_id', 'rating']]\n",
    "df = df.dropna()\n",
    "df.head()"
   ]
  },
  {
   "cell_type": "markdown",
   "metadata": {},
   "source": [
    "### The top rated books"
   ]
  },
  {
   "cell_type": "code",
   "execution_count": 15,
   "metadata": {},
   "outputs": [
    {
     "data": {
      "text/html": [
       "<div>\n",
       "<style scoped>\n",
       "    .dataframe tbody tr th:only-of-type {\n",
       "        vertical-align: middle;\n",
       "    }\n",
       "\n",
       "    .dataframe tbody tr th {\n",
       "        vertical-align: top;\n",
       "    }\n",
       "\n",
       "    .dataframe thead tr th {\n",
       "        text-align: left;\n",
       "    }\n",
       "\n",
       "    .dataframe thead tr:last-of-type th {\n",
       "        text-align: right;\n",
       "    }\n",
       "</style>\n",
       "<table border=\"1\" class=\"dataframe\">\n",
       "  <thead>\n",
       "    <tr>\n",
       "      <th></th>\n",
       "      <th colspan=\"2\" halign=\"left\">rating</th>\n",
       "    </tr>\n",
       "    <tr>\n",
       "      <th></th>\n",
       "      <th>mean</th>\n",
       "      <th>count</th>\n",
       "    </tr>\n",
       "    <tr>\n",
       "      <th>original_title</th>\n",
       "      <th></th>\n",
       "      <th></th>\n",
       "    </tr>\n",
       "  </thead>\n",
       "  <tbody>\n",
       "    <tr>\n",
       "      <th>The Complete Calvin and Hobbes</th>\n",
       "      <td>4.829876</td>\n",
       "      <td>482</td>\n",
       "    </tr>\n",
       "    <tr>\n",
       "      <th>Attack of the Deranged Mutant Killer Monster Snow Goons: A Calvin and Hobbes Collection</th>\n",
       "      <td>4.768707</td>\n",
       "      <td>147</td>\n",
       "    </tr>\n",
       "    <tr>\n",
       "      <th>The Indispensable Calvin and Hobbes: A Calvin and Hobbes Treasury</th>\n",
       "      <td>4.766355</td>\n",
       "      <td>214</td>\n",
       "    </tr>\n",
       "    <tr>\n",
       "      <th>The Revenge of the Baby-Sat: A Calvin and Hobbes Collection</th>\n",
       "      <td>4.761364</td>\n",
       "      <td>176</td>\n",
       "    </tr>\n",
       "    <tr>\n",
       "      <th>There's Treasure Everywhere: A Calvin and Hobbes Collection</th>\n",
       "      <td>4.760456</td>\n",
       "      <td>263</td>\n",
       "    </tr>\n",
       "  </tbody>\n",
       "</table>\n",
       "</div>"
      ],
      "text/plain": [
       "                                                      rating      \n",
       "                                                        mean count\n",
       "original_title                                                    \n",
       "The Complete Calvin and Hobbes                      4.829876   482\n",
       "Attack of the Deranged Mutant Killer Monster Sn...  4.768707   147\n",
       "The Indispensable Calvin and Hobbes: A Calvin a...  4.766355   214\n",
       "The Revenge of the Baby-Sat: A Calvin and Hobbe...  4.761364   176\n",
       "There's Treasure Everywhere: A Calvin and Hobbe...  4.760456   263"
      ]
     },
     "execution_count": 15,
     "metadata": {},
     "output_type": "execute_result"
    }
   ],
   "source": [
    "df_rating_stats_by_book = df[['original_title', 'rating']].groupby(['original_title']).agg(['mean', 'count']).sort_values([('rating', 'mean')], ascending=False)\n",
    "df_rating_stats_by_book.head()"
   ]
  },
  {
   "cell_type": "code",
   "execution_count": null,
   "metadata": {},
   "outputs": [],
   "source": [
    "df_user_rating = df[['original_title', 'rating']]\n",
    "df_user_rating_freq = df_user_rating.groupby(['original_title', 'rating'])['original_title'].agg(['count'])\n",
    "df_user_rating_freq.head(10)"
   ]
  },
  {
   "cell_type": "markdown",
   "metadata": {},
   "source": [
    "### Distribution of ratings "
   ]
  },
  {
   "cell_type": "code",
   "execution_count": 17,
   "metadata": {},
   "outputs": [
    {
     "data": {
      "image/png": "[encoded data removed]",
      "text/plain": [
       "<matplotlib.figure.Figure at 0x1de05670e80>"
      ]
     },
     "metadata": {},
     "output_type": "display_data"
    }
   ],
   "source": [
    "df_rating_stats_by_book['rating'].head()\n",
    "df_rating_stats_by_book['rating'].groupby(pd.cut(df_rating_stats_by_book['rating']['mean'], bins=np.linspace(1,5,17))).sum()['count'].plot.bar()\n",
    "plt.ylabel('frequency')\n",
    "plt.title('distribution of the rating average')\n",
    "plt.show()"
   ]
  },
  {
   "cell_type": "markdown",
   "metadata": {},
   "source": [
    "### Clustering book title based on their ratings: "
   ]
  },
  {
   "cell_type": "code",
   "execution_count": 51,
   "metadata": {},
   "outputs": [
    {
     "data": {
      "text/html": [
       "<div>\n",
       "<style scoped>\n",
       "    .dataframe tbody tr th:only-of-type {\n",
       "        vertical-align: middle;\n",
       "    }\n",
       "\n",
       "    .dataframe tbody tr th {\n",
       "        vertical-align: top;\n",
       "    }\n",
       "\n",
       "    .dataframe thead th {\n",
       "        text-align: right;\n",
       "    }\n",
       "</style>\n",
       "<table border=\"1\" class=\"dataframe\">\n",
       "  <thead>\n",
       "    <tr style=\"text-align: right;\">\n",
       "      <th>rating</th>\n",
       "      <th>1</th>\n",
       "      <th>2</th>\n",
       "      <th>3</th>\n",
       "      <th>4</th>\n",
       "      <th>5</th>\n",
       "    </tr>\n",
       "    <tr>\n",
       "      <th>original_title</th>\n",
       "      <th></th>\n",
       "      <th></th>\n",
       "      <th></th>\n",
       "      <th></th>\n",
       "      <th></th>\n",
       "    </tr>\n",
       "  </thead>\n",
       "  <tbody>\n",
       "    <tr>\n",
       "      <th></th>\n",
       "      <td>5</td>\n",
       "      <td>54</td>\n",
       "      <td>257</td>\n",
       "      <td>302</td>\n",
       "      <td>346</td>\n",
       "    </tr>\n",
       "    <tr>\n",
       "      <th>A Monster Calls</th>\n",
       "      <td>5</td>\n",
       "      <td>21</td>\n",
       "      <td>105</td>\n",
       "      <td>305</td>\n",
       "      <td>506</td>\n",
       "    </tr>\n",
       "    <tr>\n",
       "      <th>Animal Farm &amp; 1984</th>\n",
       "      <td>11</td>\n",
       "      <td>50</td>\n",
       "      <td>259</td>\n",
       "      <td>512</td>\n",
       "      <td>572</td>\n",
       "    </tr>\n",
       "    <tr>\n",
       "      <th>Burned (Burned, #1)</th>\n",
       "      <td>6</td>\n",
       "      <td>19</td>\n",
       "      <td>63</td>\n",
       "      <td>100</td>\n",
       "      <td>142</td>\n",
       "    </tr>\n",
       "    <tr>\n",
       "      <th>Call the midwife : a true story of the East End in the 1950s</th>\n",
       "      <td>1</td>\n",
       "      <td>4</td>\n",
       "      <td>69</td>\n",
       "      <td>233</td>\n",
       "      <td>140</td>\n",
       "    </tr>\n",
       "  </tbody>\n",
       "</table>\n",
       "</div>"
      ],
      "text/plain": [
       "rating                                               1   2    3    4    5\n",
       "original_title                                                           \n",
       "                                                     5  54  257  302  346\n",
       " A Monster Calls                                     5  21  105  305  506\n",
       " Animal Farm & 1984                                 11  50  259  512  572\n",
       " Burned (Burned, #1)                                 6  19   63  100  142\n",
       " Call the midwife : a true story of the East En...   1   4   69  233  140"
      ]
     },
     "execution_count": 51,
     "metadata": {},
     "output_type": "execute_result"
    }
   ],
   "source": [
    "df = df_user_rating_freq.pivot_table(index='original_title', columns='rating', values='count', fill_value=0)\n",
    "df.head()"
   ]
  },
  {
   "cell_type": "code",
   "execution_count": 52,
   "metadata": {},
   "outputs": [
    {
     "name": "stdout",
     "output_type": "stream",
     "text": [
      "(9274, 5)\n"
     ]
    },
    {
     "name": "stderr",
     "output_type": "stream",
     "text": [
      "C:\\Users\\Ayham\\Anaconda3\\lib\\site-packages\\sklearn\\utils\\validation.py:475: DataConversionWarning: Data with input dtype int64 was converted to float64 by StandardScaler.\n",
      "  warnings.warn(msg, DataConversionWarning)\n"
     ]
    },
    {
     "data": {
      "text/html": [
       "<div>\n",
       "<style scoped>\n",
       "    .dataframe tbody tr th:only-of-type {\n",
       "        vertical-align: middle;\n",
       "    }\n",
       "\n",
       "    .dataframe tbody tr th {\n",
       "        vertical-align: top;\n",
       "    }\n",
       "\n",
       "    .dataframe thead th {\n",
       "        text-align: right;\n",
       "    }\n",
       "</style>\n",
       "<table border=\"1\" class=\"dataframe\">\n",
       "  <thead>\n",
       "    <tr style=\"text-align: right;\">\n",
       "      <th>rating</th>\n",
       "      <th>1</th>\n",
       "      <th>2</th>\n",
       "      <th>3</th>\n",
       "      <th>4</th>\n",
       "      <th>5</th>\n",
       "    </tr>\n",
       "    <tr>\n",
       "      <th>original_title</th>\n",
       "      <th></th>\n",
       "      <th></th>\n",
       "      <th></th>\n",
       "      <th></th>\n",
       "      <th></th>\n",
       "    </tr>\n",
       "  </thead>\n",
       "  <tbody>\n",
       "    <tr>\n",
       "      <th></th>\n",
       "      <td>-0.156154</td>\n",
       "      <td>0.177514</td>\n",
       "      <td>0.406312</td>\n",
       "      <td>0.171915</td>\n",
       "      <td>0.265649</td>\n",
       "    </tr>\n",
       "    <tr>\n",
       "      <th>A Monster Calls</th>\n",
       "      <td>-0.156154</td>\n",
       "      <td>-0.183243</td>\n",
       "      <td>-0.140954</td>\n",
       "      <td>0.178585</td>\n",
       "      <td>0.572430</td>\n",
       "    </tr>\n",
       "    <tr>\n",
       "      <th>Animal Farm &amp; 1984</th>\n",
       "      <td>-0.039670</td>\n",
       "      <td>0.133786</td>\n",
       "      <td>0.413513</td>\n",
       "      <td>0.638812</td>\n",
       "      <td>0.698977</td>\n",
       "    </tr>\n",
       "    <tr>\n",
       "      <th>Burned (Burned, #1)</th>\n",
       "      <td>-0.136740</td>\n",
       "      <td>-0.205107</td>\n",
       "      <td>-0.292172</td>\n",
       "      <td>-0.277196</td>\n",
       "      <td>-0.125496</td>\n",
       "    </tr>\n",
       "    <tr>\n",
       "      <th>Call the midwife : a true story of the East End in the 1950s</th>\n",
       "      <td>-0.233810</td>\n",
       "      <td>-0.369087</td>\n",
       "      <td>-0.270569</td>\n",
       "      <td>0.018506</td>\n",
       "      <td>-0.129331</td>\n",
       "    </tr>\n",
       "  </tbody>\n",
       "</table>\n",
       "</div>"
      ],
      "text/plain": [
       "rating                                                     1         2  \\\n",
       "original_title                                                           \n",
       "                                                   -0.156154  0.177514   \n",
       " A Monster Calls                                   -0.156154 -0.183243   \n",
       " Animal Farm & 1984                                -0.039670  0.133786   \n",
       " Burned (Burned, #1)                               -0.136740 -0.205107   \n",
       " Call the midwife : a true story of the East En... -0.233810 -0.369087   \n",
       "\n",
       "rating                                                     3         4  \\\n",
       "original_title                                                           \n",
       "                                                    0.406312  0.171915   \n",
       " A Monster Calls                                   -0.140954  0.178585   \n",
       " Animal Farm & 1984                                 0.413513  0.638812   \n",
       " Burned (Burned, #1)                               -0.292172 -0.277196   \n",
       " Call the midwife : a true story of the East En... -0.270569  0.018506   \n",
       "\n",
       "rating                                                     5  \n",
       "original_title                                                \n",
       "                                                    0.265649  \n",
       " A Monster Calls                                    0.572430  \n",
       " Animal Farm & 1984                                 0.698977  \n",
       " Burned (Burned, #1)                               -0.125496  \n",
       " Call the midwife : a true story of the East En... -0.129331  "
      ]
     },
     "execution_count": 52,
     "metadata": {},
     "output_type": "execute_result"
    }
   ],
   "source": [
    "# remove column\n",
    "X_columns = list(df.columns)\n",
    "if 'IncomeErr' in X_columns:\n",
    "    X_columns.remove('IncomeErr')\n",
    "if 'IncomePerCapErr' in X_columns:\n",
    "    X_columns.remove('IncomePerCapErr')\n",
    "df = df[X_columns]\n",
    "\n",
    "# normalize the columns\n",
    "df_norm = df.copy()\n",
    "for col in X_columns:\n",
    "    df_norm[col] = StandardScaler().fit_transform(df_norm[col].values.reshape(-1, 1))\n",
    "\n",
    "print(df.shape)\n",
    "df_norm.head()"
   ]
  },
  {
   "cell_type": "markdown",
   "metadata": {},
   "source": [
    "### Feature Engineering "
   ]
  },
  {
   "cell_type": "code",
   "execution_count": 71,
   "metadata": {},
   "outputs": [
    {
     "name": "stdout",
     "output_type": "stream",
     "text": [
      "{0, 1, 2, 3, 4}\n",
      "Counter({0: 7401, 4: 1647, 1: 162, 3: 49, 2: 15})\n"
     ]
    }
   ],
   "source": [
    "k = 5\n",
    "kmeans = KMeans(n_clusters=k).fit(df_norm.values)\n",
    "\n",
    "print(set(kmeans.labels_))\n",
    "print(collections.Counter(kmeans.labels_))\n",
    "\n",
    "df_results = df.copy()\n",
    "df_norm['cluster'] = kmeans.labels_\n",
    "df_results['cluster'] = kmeans.labels_"
   ]
  },
  {
   "cell_type": "markdown",
   "metadata": {},
   "source": [
    "###  Model Training"
   ]
  },
  {
   "cell_type": "markdown",
   "metadata": {},
   "source": [
    "##### As you can see most of the ratining as metioned before it is distr"
   ]
  },
  {
   "cell_type": "code",
   "execution_count": 72,
   "metadata": {},
   "outputs": [
    {
     "name": "stdout",
     "output_type": "stream",
     "text": [
      "[(' Burned (Burned, #1)', 1), (' Call the midwife : a true story of the East End in the 1950s', 1), (' Carry On, Warrior: Thoughts on Life Unarmed ', 1), (' Carter Beats the Devil', 1), (' Crown of Shadows', 1)]\n",
      "[('A Christmas Carol', 1), ('A Clash of Kings', 1), ('A Clockwork Orange', 1), ('A Dance with Dragons', 1), ('A Feast for Crows', 1)]\n",
      "[('Angels & Demons ', 1), ('Breaking Dawn', 1), (\"Eat, pray, love: one woman's search for everything across Italy, India and Indonesia\", 1), ('Eclipse', 1), ('Fifty Shades of Grey', 1)]\n",
      "[(' The Fellowship of the Ring', 1), ('A Game of Thrones', 1), ('A Wrinkle in Time', 1), ('An Excellent conceited Tragedie of Romeo and Juliet', 1), ('Animal Farm: A Fairy Story', 1)]\n",
      "[(' ', 1), (' A Monster Calls ', 1), (' Animal Farm & 1984', 1), (' The Tale of Despereaux', 1), (\"'Salem's Lot The Illustrated Edition\", 1)]\n",
      "1\n"
     ]
    },
    {
     "data": {
      "image/png": "[encoded data removed]",
      "text/plain": [
       "<matplotlib.figure.Figure at 0x1de0612ba20>"
      ]
     },
     "metadata": {},
     "output_type": "display_data"
    },
    {
     "name": "stdout",
     "output_type": "stream",
     "text": [
      "2\n"
     ]
    },
    {
     "data": {
      "image/png": "[encoded data removed]",
      "text/plain": [
       "<matplotlib.figure.Figure at 0x1de062048d0>"
      ]
     },
     "metadata": {},
     "output_type": "display_data"
    },
    {
     "name": "stdout",
     "output_type": "stream",
     "text": [
      "3\n"
     ]
    },
    {
     "data": {
      "image/png": "[encoded data removed]",
      "text/plain": [
       "<matplotlib.figure.Figure at 0x1de06115cf8>"
      ]
     },
     "metadata": {},
     "output_type": "display_data"
    },
    {
     "name": "stdout",
     "output_type": "stream",
     "text": [
      "4\n"
     ]
    },
    {
     "data": {
      "image/png": "[encoded data removed]",
      "text/plain": [
       "<matplotlib.figure.Figure at 0x1de09714f28>"
      ]
     },
     "metadata": {},
     "output_type": "display_data"
    },
    {
     "name": "stdout",
     "output_type": "stream",
     "text": [
      "5\n"
     ]
    },
    {
     "data": {
      "image/png": "[encoded data removed]",
      "text/plain": [
       "<matplotlib.figure.Figure at 0x1de09b46438>"
      ]
     },
     "metadata": {},
     "output_type": "display_data"
    }
   ],
   "source": [
    "# Analyze the results\n",
    "df_results = df_results.reset_index()\n",
    "for cluster in sorted(set(kmeans.labels_)):\n",
    "    print(collections.Counter(df_results[df_results['cluster']==cluster]['original_title']).most_common(5))\n",
    "\n",
    "n_clusters = len(set(kmeans.labels_))\n",
    "for col in X_columns:\n",
    "    print(col)\n",
    "    i = 1\n",
    "    plt.figure(figsize=(16,3))\n",
    "    for cluster in sorted(set(kmeans.labels_)):\n",
    "        plt.subplot(1, n_clusters, i)\n",
    "        plt.xlim([0,df_results[col].max()])\n",
    "        plt.hist(df_results[df_results['cluster']==cluster][col], label=str(cluster), alpha=0.3, bins=20)\n",
    "        i += 1\n",
    "    plt.show()"
   ]
  },
  {
   "cell_type": "code",
   "execution_count": 73,
   "metadata": {},
   "outputs": [
    {
     "data": {
      "text/html": [
       "<div>\n",
       "<style scoped>\n",
       "    .dataframe tbody tr th:only-of-type {\n",
       "        vertical-align: middle;\n",
       "    }\n",
       "\n",
       "    .dataframe tbody tr th {\n",
       "        vertical-align: top;\n",
       "    }\n",
       "\n",
       "    .dataframe thead th {\n",
       "        text-align: right;\n",
       "    }\n",
       "</style>\n",
       "<table border=\"1\" class=\"dataframe\">\n",
       "  <thead>\n",
       "    <tr style=\"text-align: right;\">\n",
       "      <th>cluster</th>\n",
       "      <th>0</th>\n",
       "      <th>1</th>\n",
       "      <th>2</th>\n",
       "      <th>3</th>\n",
       "      <th>4</th>\n",
       "    </tr>\n",
       "    <tr>\n",
       "      <th>rating</th>\n",
       "      <th></th>\n",
       "      <th></th>\n",
       "      <th></th>\n",
       "      <th></th>\n",
       "      <th></th>\n",
       "    </tr>\n",
       "  </thead>\n",
       "  <tbody>\n",
       "    <tr>\n",
       "      <th>1</th>\n",
       "      <td>4.22</td>\n",
       "      <td>134.44</td>\n",
       "      <td>891.73</td>\n",
       "      <td>194.63</td>\n",
       "      <td>27.33</td>\n",
       "    </tr>\n",
       "    <tr>\n",
       "      <th>2</th>\n",
       "      <td>14.15</td>\n",
       "      <td>338.23</td>\n",
       "      <td>1381.80</td>\n",
       "      <td>546.02</td>\n",
       "      <td>86.97</td>\n",
       "    </tr>\n",
       "    <tr>\n",
       "      <th>3</th>\n",
       "      <td>60.03</td>\n",
       "      <td>1171.33</td>\n",
       "      <td>2946.13</td>\n",
       "      <td>2183.04</td>\n",
       "      <td>334.95</td>\n",
       "    </tr>\n",
       "    <tr>\n",
       "      <th>4</th>\n",
       "      <td>94.39</td>\n",
       "      <td>1830.43</td>\n",
       "      <td>3318.93</td>\n",
       "      <td>4227.41</td>\n",
       "      <td>504.95</td>\n",
       "    </tr>\n",
       "    <tr>\n",
       "      <th>5</th>\n",
       "      <td>83.77</td>\n",
       "      <td>1781.51</td>\n",
       "      <td>2664.33</td>\n",
       "      <td>5187.39</td>\n",
       "      <td>437.86</td>\n",
       "    </tr>\n",
       "  </tbody>\n",
       "</table>\n",
       "</div>"
      ],
      "text/plain": [
       "cluster      0        1        2        3       4\n",
       "rating                                           \n",
       "1         4.22   134.44   891.73   194.63   27.33\n",
       "2        14.15   338.23  1381.80   546.02   86.97\n",
       "3        60.03  1171.33  2946.13  2183.04  334.95\n",
       "4        94.39  1830.43  3318.93  4227.41  504.95\n",
       "5        83.77  1781.51  2664.33  5187.39  437.86"
      ]
     },
     "execution_count": 73,
     "metadata": {},
     "output_type": "execute_result"
    }
   ],
   "source": [
    "# Analyze the centroids\n",
    "df_results.groupby('cluster').mean().round(2).T"
   ]
  },
  {
   "cell_type": "code",
   "execution_count": 74,
   "metadata": {},
   "outputs": [
    {
     "name": "stdout",
     "output_type": "stream",
     "text": [
      "1\n"
     ]
    },
    {
     "data": {
      "image/png": "[encoded data removed]",
      "text/plain": [
       "<matplotlib.figure.Figure at 0x1de09639780>"
      ]
     },
     "metadata": {},
     "output_type": "display_data"
    },
    {
     "name": "stdout",
     "output_type": "stream",
     "text": [
      "2\n"
     ]
    },
    {
     "data": {
      "image/png": "[encoded data removed]",
      "text/plain": [
       "<matplotlib.figure.Figure at 0x1de0d0af630>"
      ]
     },
     "metadata": {},
     "output_type": "display_data"
    },
    {
     "name": "stdout",
     "output_type": "stream",
     "text": [
      "3\n"
     ]
    },
    {
     "data": {
      "image/png": "[encoded data removed]",
      "text/plain": [
       "<matplotlib.figure.Figure at 0x1de05929320>"
      ]
     },
     "metadata": {},
     "output_type": "display_data"
    },
    {
     "name": "stdout",
     "output_type": "stream",
     "text": [
      "4\n"
     ]
    },
    {
     "data": {
      "image/png": "[encoded data removed]",
      "text/plain": [
       "<matplotlib.figure.Figure at 0x1de09a3a278>"
      ]
     },
     "metadata": {},
     "output_type": "display_data"
    },
    {
     "name": "stdout",
     "output_type": "stream",
     "text": [
      "5\n"
     ]
    },
    {
     "data": {
      "image/png": "[encoded data removed]",
      "text/plain": [
       "<matplotlib.figure.Figure at 0x1de09bea898>"
      ]
     },
     "metadata": {},
     "output_type": "display_data"
    }
   ],
   "source": [
    "# Analyze the results\n",
    "for col in X_columns:\n",
    "    print(col)\n",
    "    for cluster in set(kmeans.labels_):\n",
    "        plt.hist(df_results[df_results['cluster']==cluster][col], label=str(cluster), alpha=0.3, bins=20)\n",
    "    plt.legend()\n",
    "    plt.show()"
   ]
  },
  {
   "cell_type": "markdown",
   "metadata": {},
   "source": [
    "### Model Evaluation "
   ]
  },
  {
   "cell_type": "code",
   "execution_count": 75,
   "metadata": {},
   "outputs": [
    {
     "name": "stdout",
     "output_type": "stream",
     "text": [
      "Inter Cluster distance 6.03333312666773\n",
      "Intra Cluster distance 0.15798013529909852\n",
      "Inertia 9914.900560695223\n"
     ]
    }
   ],
   "source": [
    "# Inter-Cluster\n",
    "centroids = []\n",
    "for cluster in sorted(set(kmeans.labels_)):\n",
    "    centroids.append(df_norm[df_norm['cluster']==cluster][X_columns].mean().values)\n",
    "distances = []\n",
    "for c1 in centroids:\n",
    "    for c2 in centroids:\n",
    "        distances.append(euclidean_distances(c1.reshape(-1, 1), c2.reshape(-1, 1))[0][0])\n",
    "print('Inter Cluster distance', np.mean(distances))\n",
    "\n",
    "# Intra-Cluster\n",
    "distances = []\n",
    "for cluster in sorted(set(kmeans.labels_)):\n",
    "    df_filter = df_norm[df_norm['cluster']==cluster]\n",
    "    centroid = df_filter[X_columns].mean().values\n",
    "    for k, v in df_filter[X_columns].iterrows():\n",
    "        distances.append(euclidean_distances(centroid.reshape(-1, 1), v.values.reshape(-1, 1))[0][0])\n",
    "print('Intra Cluster distance', np.mean(distances))\n",
    "\n",
    "# Inertia\n",
    "distances = []\n",
    "for cluster in sorted(set(kmeans.labels_)):\n",
    "    df_filter = df_norm[df_norm['cluster']==cluster]\n",
    "    centroid = df_filter[X_columns].mean().values\n",
    "    for k, v in df_filter[X_columns].iterrows():\n",
    "        distances.append(euclidean_distances(centroid.reshape(1, -1), v.values.reshape(1, -1), squared=True)[0][0])\n",
    "print('Inertia', np.sum(distances))"
   ]
  },
  {
   "cell_type": "code",
   "execution_count": 58,
   "metadata": {},
   "outputs": [
    {
     "data": {
      "image/png": "[encoded data removed]",
      "text/plain": [
       "<matplotlib.figure.Figure at 0x1de0d270668>"
      ]
     },
     "metadata": {},
     "output_type": "display_data"
    }
   ],
   "source": [
    "inertia = []\n",
    "for k in range(2, 100):\n",
    "    kmeans = KMeans(n_clusters=k).fit(df_norm.values)\n",
    "    inertia.append(kmeans.inertia_)\n",
    "plt.plot(inertia)\n",
    "plt.show()"
   ]
  },
  {
   "cell_type": "code",
   "execution_count": null,
   "metadata": {},
   "outputs": [],
   "source": []
  }
 ],
 "metadata": {
  "kernelspec": {
   "display_name": "Python 3",
   "language": "python",
   "name": "python3"
  },
  "language_info": {
   "codemirror_mode": {
    "name": "ipython",
    "version": 3
   },
   "file_extension": ".py",
   "mimetype": "text/x-python",
   "name": "python",
   "nbconvert_exporter": "python",
   "pygments_lexer": "ipython3",
   "version": "3.6.4"
  }
 },
 "nbformat": 4,
 "nbformat_minor": 2
}
